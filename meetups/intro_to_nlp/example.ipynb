{
 "cells": [
  {
   "cell_type": "code",
   "execution_count": 1,
   "metadata": {
    "collapsed": true
   },
   "outputs": [],
   "source": [
    "from nltk.tokenize import RegexpTokenizer\n",
    "from nltk.stem import SnowballStemmer\n",
    "from nltk.corpus import stopwords\n",
    "from sklearn.feature_extraction.text import CountVectorizer, TfidfVectorizer, TfidfTransformer\n",
    "import re\n",
    "import numpy as np"
   ]
  },
  {
   "cell_type": "code",
   "execution_count": 10,
   "metadata": {
    "collapsed": true
   },
   "outputs": [],
   "source": [
    "docs = [\"I never drinking beer in the morning\", \n",
    "        \"Bavarian beer is the best beer all over the world\"]"
   ]
  },
  {
   "cell_type": "code",
   "execution_count": 3,
   "metadata": {
    "collapsed": true
   },
   "outputs": [],
   "source": [
    "STOPWORDS = stopwords.words('english')\n",
    "stemmer = SnowballStemmer(\"english\")\n",
    "tokenizer = RegexpTokenizer('\\w+')"
   ]
  },
  {
   "cell_type": "code",
   "execution_count": 5,
   "metadata": {},
   "outputs": [
    {
     "name": "stdout",
     "output_type": "stream",
     "text": [
      "153\n"
     ]
    }
   ],
   "source": [
    "print(len(STOPWORDS))"
   ]
  },
  {
   "cell_type": "code",
   "execution_count": 7,
   "metadata": {
    "collapsed": true
   },
   "outputs": [],
   "source": [
    "def parse_doc(line):\n",
    "    return [stemmer.stem(word) for word in tokenizer.tokenize(line.lower()) \n",
    "            if len(word)>0 and word not in STOPWORDS]"
   ]
  },
  {
   "cell_type": "code",
   "execution_count": 11,
   "metadata": {},
   "outputs": [],
   "source": [
    "docs_stage1 = [parse_doc(d) for d in docs]"
   ]
  },
  {
   "cell_type": "code",
   "execution_count": 12,
   "metadata": {},
   "outputs": [
    {
     "name": "stdout",
     "output_type": "stream",
     "text": [
      "[['never', 'drink', 'beer', 'morn'], ['bavarian', 'beer', 'best', 'beer', 'world']]\n"
     ]
    }
   ],
   "source": [
    "print(docs_stage1)"
   ]
  },
  {
   "cell_type": "code",
   "execution_count": 14,
   "metadata": {},
   "outputs": [],
   "source": [
    "vect1 = CountVectorizer(\n",
    "      input='content'\n",
    "      , strip_accents = 'unicode'\n",
    "      , analyzer = 'word'\n",
    "      , ngram_range=(1, 1)\n",
    "      , tokenizer = parse_doc\n",
    "  )\n",
    "vect2 = CountVectorizer(\n",
    "      input='content'\n",
    "      , strip_accents = 'unicode'\n",
    "      , analyzer = 'word'\n",
    "      , ngram_range=(2, 2)\n",
    "      , tokenizer = parse_doc\n",
    "  )\n",
    "vect3 = TfidfVectorizer(\n",
    "      input='content'\n",
    "      , strip_accents = 'unicode'\n",
    "      , analyzer = 'word'\n",
    "      , ngram_range=(1, 1)\n",
    "      , tokenizer = parse_doc\n",
    "      , smooth_idf = False\n",
    "      , norm = None\n",
    "  )\n",
    "vect4 = TfidfVectorizer(\n",
    "      input='content'\n",
    "      , strip_accents = 'unicode'\n",
    "      , analyzer = 'word'\n",
    "      , ngram_range=(1, 1)\n",
    "      , tokenizer = parse_doc\n",
    "      , smooth_idf = False\n",
    "  )"
   ]
  },
  {
   "cell_type": "code",
   "execution_count": 15,
   "metadata": {
    "collapsed": true
   },
   "outputs": [],
   "source": [
    "matrix1 = vect1.fit_transform(docs)"
   ]
  },
  {
   "cell_type": "code",
   "execution_count": 16,
   "metadata": {},
   "outputs": [
    {
     "name": "stdout",
     "output_type": "stream",
     "text": [
      "['bavarian', 'beer', 'best', 'drink', 'morn', 'never', 'world']\n",
      "  (0, 4)\t1\n",
      "  (0, 1)\t1\n",
      "  (0, 3)\t1\n",
      "  (0, 5)\t1\n",
      "  (1, 6)\t1\n",
      "  (1, 2)\t1\n",
      "  (1, 0)\t1\n",
      "  (1, 1)\t2\n"
     ]
    }
   ],
   "source": [
    "print(vect1.get_feature_names())\n",
    "print(matrix1)"
   ]
  },
  {
   "cell_type": "code",
   "execution_count": 31,
   "metadata": {
    "collapsed": true
   },
   "outputs": [],
   "source": [
    "matrix2 = vect2.fit_transform(docs)"
   ]
  },
  {
   "cell_type": "code",
   "execution_count": 32,
   "metadata": {},
   "outputs": [
    {
     "name": "stdout",
     "output_type": "stream",
     "text": [
      "['bavarian beer', 'beer best', 'beer morn', 'beer world', 'best beer', 'drink beer', 'never drink']\n",
      "  (0, 2)\t1\n",
      "  (0, 5)\t1\n",
      "  (0, 6)\t1\n",
      "  (1, 3)\t1\n",
      "  (1, 4)\t1\n",
      "  (1, 1)\t1\n",
      "  (1, 0)\t1\n"
     ]
    }
   ],
   "source": [
    "print(vect2.get_feature_names())\n",
    "print(matrix2)"
   ]
  },
  {
   "cell_type": "code",
   "execution_count": 17,
   "metadata": {
    "collapsed": true
   },
   "outputs": [],
   "source": [
    "matrix3 = vect3.fit_transform(docs)"
   ]
  },
  {
   "cell_type": "code",
   "execution_count": 23,
   "metadata": {},
   "outputs": [
    {
     "name": "stdout",
     "output_type": "stream",
     "text": [
      "['bavarian', 'beer', 'best', 'drink', 'morn', 'never', 'world']\n",
      "  (0, 5)\t1.69314718056\n",
      "  (0, 3)\t1.69314718056\n",
      "  (0, 1)\t1.0\n",
      "  (0, 4)\t1.69314718056\n",
      "  (1, 1)\t2.0\n",
      "  (1, 0)\t1.69314718056\n",
      "  (1, 2)\t1.69314718056\n",
      "  (1, 6)\t1.69314718056\n"
     ]
    }
   ],
   "source": [
    "print(vect3.get_feature_names())\n",
    "print(matrix3)"
   ]
  },
  {
   "cell_type": "code",
   "execution_count": 24,
   "metadata": {},
   "outputs": [
    {
     "name": "stdout",
     "output_type": "stream",
     "text": [
      "  (0, 5)\t1.69314718056\n"
     ]
    }
   ],
   "source": [
    "print(vect3.transform([\"never stop\"]))"
   ]
  },
  {
   "cell_type": "code",
   "execution_count": 58,
   "metadata": {},
   "outputs": [
    {
     "name": "stdout",
     "output_type": "stream",
     "text": [
      "1.69314718056\n"
     ]
    }
   ],
   "source": [
    "n = 2\n",
    "d = 1\n",
    "print(np.log(2./1.)+1)"
   ]
  },
  {
   "cell_type": "code",
   "execution_count": 25,
   "metadata": {
    "collapsed": true
   },
   "outputs": [],
   "source": [
    "matrix4 = vect4.fit_transform(docs)"
   ]
  },
  {
   "cell_type": "code",
   "execution_count": 26,
   "metadata": {},
   "outputs": [
    {
     "name": "stdout",
     "output_type": "stream",
     "text": [
      "  (0, 5)\t0.546454011634\n",
      "  (0, 3)\t0.546454011634\n",
      "  (0, 1)\t0.32274454218\n",
      "  (0, 4)\t0.546454011634\n",
      "  (1, 1)\t0.563430756324\n",
      "  (1, 0)\t0.476985598255\n",
      "  (1, 2)\t0.476985598255\n",
      "  (1, 6)\t0.476985598255\n"
     ]
    }
   ],
   "source": [
    "print(matrix4)"
   ]
  },
  {
   "cell_type": "code",
   "execution_count": 27,
   "metadata": {},
   "outputs": [],
   "source": [
    "t = vect3.transform([\"What should I never do in the morning?\"])"
   ]
  },
  {
   "cell_type": "code",
   "execution_count": 68,
   "metadata": {},
   "outputs": [
    {
     "name": "stdout",
     "output_type": "stream",
     "text": [
      "  (0, 5)\t0.707106781187\n",
      "  (0, 4)\t0.707106781187\n"
     ]
    }
   ],
   "source": [
    "print(t)"
   ]
  },
  {
   "cell_type": "code",
   "execution_count": 20,
   "metadata": {
    "collapsed": true
   },
   "outputs": [],
   "source": [
    "from sklearn.metrics.pairwise import cosine_similarity"
   ]
  },
  {
   "cell_type": "code",
   "execution_count": 28,
   "metadata": {},
   "outputs": [
    {
     "name": "stdout",
     "output_type": "stream",
     "text": [
      "[ 0.77280267  0.        ]\n"
     ]
    }
   ],
   "source": [
    "print(cosine_similarity(t, matrix4).flatten())"
   ]
  },
  {
   "cell_type": "code",
   "execution_count": null,
   "metadata": {
    "collapsed": true
   },
   "outputs": [],
   "source": []
  }
 ],
 "metadata": {
  "kernelspec": {
   "display_name": "Python 3",
   "language": "python",
   "name": "python3"
  },
  "language_info": {
   "codemirror_mode": {
    "name": "ipython",
    "version": 3
   },
   "file_extension": ".py",
   "mimetype": "text/x-python",
   "name": "python",
   "nbconvert_exporter": "python",
   "pygments_lexer": "ipython3",
   "version": "3.6.1"
  }
 },
 "nbformat": 4,
 "nbformat_minor": 2
}
